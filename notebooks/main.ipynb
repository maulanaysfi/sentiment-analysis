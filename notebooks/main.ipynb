{
 "cells": [
  {
   "cell_type": "code",
   "execution_count": 6,
   "id": "508776fa-cb12-4caa-9d58-6216d75c8f84",
   "metadata": {},
   "outputs": [],
   "source": [
    "import re, pandas as pd\n",
    "import numpy as np\n",
    "\n",
    "from sklearn.model_selection import train_test_split"
   ]
  },
  {
   "cell_type": "code",
   "execution_count": 5,
   "id": "53343007-5210-4121-ab2c-540fb0def577",
   "metadata": {},
   "outputs": [],
   "source": [
    "data_path = '/home/ibrahim/git_repos/sentiment-analysis/data/training.1600000.processed.noemoticon.csv'"
   ]
  },
  {
   "cell_type": "code",
   "execution_count": 8,
   "id": "c379d34e-401d-4601-a1df-cdb29e22d7ab",
   "metadata": {},
   "outputs": [],
   "source": [
    "# cleaning tweets with regexp\n",
    "def clean_tweet(t):\n",
    "    t = t.lower()\n",
    "    t = re.sub(r\"http\\S+|www\\S+\", \" URL \", t)\n",
    "    t = re.sub(r\"@\\w+\", \" USER \", t)\n",
    "    t = re.sub(r\"#(\\w+)\", r\"\\1\", t)\n",
    "    t = re.sub(r\"[^a-z0-9' ]+\", \" \", t)\n",
    "    t = re.sub(r\"\\s+\", \" \", t).strip()\n",
    "    return t"
   ]
  },
  {
   "cell_type": "code",
   "execution_count": 23,
   "id": "14c6f40d-5f8d-4bc8-929b-8c6353b5ede1",
   "metadata": {},
   "outputs": [],
   "source": [
    "# load raw data\n",
    "def load_sentiments(path):\n",
    "    cols = [\"label\",\"id\",\"date\",\"query\",\"user\",\"tweet\"]\n",
    "    df = pd.read_csv(path, encoding=\"latin-1\", names=cols)\n",
    "    df[\"label\"] = df[\"label\"].map({0:0, 2:1, 4:2})\n",
    "    df[\"tweet\"] = df[\"tweet\"].astype(str).map(clean_tweet)\n",
    "    return df[[\"tweet\",\"label\"]].dropna()"
   ]
  },
  {
   "cell_type": "code",
   "execution_count": 24,
   "id": "f76f6ecb-d660-4ac4-9664-8d1faf8586a1",
   "metadata": {},
   "outputs": [],
   "source": [
    "def split(df):\n",
    "    return train_test_split(df[\"tweet\"], df[\"label\"], test_size=0.2, random_state=33, stratify=df[\"label\"])"
   ]
  },
  {
   "cell_type": "code",
   "execution_count": null,
   "id": "365451a1-5f44-4e7c-8b73-76a875123431",
   "metadata": {},
   "outputs": [],
   "source": [
    "# building baseline model\n",
    "import mlflow, joblib\n",
    "from sklearn.pipeline import Pipeline\n",
    "from sklearn.feature_extraction.text import TfidfVectorizer\n",
    "from sklearn.linear_model import LogisticRegression\n",
    "from sklearn.metrics import f1_score, classification_report\n",
    "\n",
    "df = load_sentiments(data_path)\n",
    "X_train, X_test, y_train, y_test = split(df)\n",
    "\n",
    "pipe = Pipeline([\n",
    "    (\"tfidf\", TfidfVectorizer(ngram_range=(1,2), min_df=2, max_df=0.9)),\n",
    "    (\"clf\", LogisticRegression(max_iter=200, class_weight=\"balanced\", n_jobs=None)),\n",
    "])\n",
    "\n",
    "with mlflow.start_run():\n",
    "    pipe.fit(X_train, y_train)\n",
    "    y_pred = pipe.predict(X_test)\n",
    "\n",
    "    f1 = f1_score(y_test, y_pred, average=\"macro\")\n",
    "    mlflow.log_metric(\"f1_macro\", f1)\n",
    "    mlflow.log_text(classification_report(y_test, y_pred), \"cls_report.txt\")\n",
    "    joblib.dump(pipe, \"../models/model.joblib\")\n",
    "    mlflow.log_artifact(\"../models/model.joblib\")\n",
    "print(\"Saved models/model.joblib\")"
   ]
  },
  {
   "cell_type": "code",
   "execution_count": null,
   "id": "10e57b7f-b1e7-4f5b-89fb-3cd4dda4cf6b",
   "metadata": {},
   "outputs": [],
   "source": []
  }
 ],
 "metadata": {
  "kernelspec": {
   "display_name": "Python 3 (ipykernel)",
   "language": "python",
   "name": "python3"
  },
  "language_info": {
   "codemirror_mode": {
    "name": "ipython",
    "version": 3
   },
   "file_extension": ".py",
   "mimetype": "text/x-python",
   "name": "python",
   "nbconvert_exporter": "python",
   "pygments_lexer": "ipython3",
   "version": "3.12.3"
  }
 },
 "nbformat": 4,
 "nbformat_minor": 5
}
